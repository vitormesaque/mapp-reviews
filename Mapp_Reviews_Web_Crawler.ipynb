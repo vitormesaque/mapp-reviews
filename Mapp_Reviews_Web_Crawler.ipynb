{
  "nbformat": 4,
  "nbformat_minor": 0,
  "metadata": {
    "colab": {
      "name": "App Reviews - Web Crawler.ipynb",
      "provenance": [],
      "toc_visible": true
    },
    "kernelspec": {
      "name": "python3",
      "display_name": "Python 3"
    },
    "accelerator": "GPU"
  },
  "cells": [
    {
      "cell_type": "markdown",
      "metadata": {
        "id": "aWDOd--HGLwX"
      },
      "source": [
        "**INSTALLING SCRAPER LIBRARY IN PYTHON**\n",
        "\n",
        "---\n",
        "\n"
      ]
    },
    {
      "cell_type": "code",
      "metadata": {
        "id": "J9eIpikFGOsb",
        "colab": {
          "base_uri": "https://localhost:8080/",
          "height": 207
        },
        "outputId": "2a2d0214-6ca4-43e6-be32-c1374fcee4b9"
      },
      "source": [
        "pip install google_play_scraper"
      ],
      "execution_count": null,
      "outputs": [
        {
          "output_type": "stream",
          "text": [
            "Collecting google_play_scraper\n",
            "\u001b[?25l  Downloading https://files.pythonhosted.org/packages/29/b5/560ff4472c33285b91af435815c7e9cff4c2acc01620fd0f80a59d71e345/google-play-scraper-0.1.1.tar.gz (49kB)\n",
            "\r\u001b[K     |██████▋                         | 10kB 27.6MB/s eta 0:00:01\r\u001b[K     |█████████████▎                  | 20kB 2.9MB/s eta 0:00:01\r\u001b[K     |████████████████████            | 30kB 3.8MB/s eta 0:00:01\r\u001b[K     |██████████████████████████▋     | 40kB 4.1MB/s eta 0:00:01\r\u001b[K     |████████████████████████████████| 51kB 2.5MB/s \n",
            "\u001b[?25hBuilding wheels for collected packages: google-play-scraper\n",
            "  Building wheel for google-play-scraper (setup.py) ... \u001b[?25l\u001b[?25hdone\n",
            "  Created wheel for google-play-scraper: filename=google_play_scraper-0.1.1-cp36-none-any.whl size=22260 sha256=0db61f013dabe4320d6f920592046cf3571777dcebd929a877316774b188c343\n",
            "  Stored in directory: /root/.cache/pip/wheels/d7/1f/71/e2b30aab85297ad6dd2e3049587a6763cfb7e803a0b76d982e\n",
            "Successfully built google-play-scraper\n",
            "Installing collected packages: google-play-scraper\n",
            "Successfully installed google-play-scraper-0.1.1\n"
          ],
          "name": "stdout"
        }
      ]
    },
    {
      "cell_type": "markdown",
      "metadata": {
        "id": "W84xP94lGgy2"
      },
      "source": [
        "**Data download (Foodpanda app)**\n",
        "\n",
        "\n",
        "\n",
        "```\n",
        "# Only download reviews with score = 1.\n",
        "```\n",
        "\n"
      ]
    },
    {
      "cell_type": "code",
      "metadata": {
        "id": "Xdv5Nf2_G4gY"
      },
      "source": [
        "from google_play_scraper import Sort, reviews_all\n",
        "\n",
        "result = reviews_all(\n",
        "    'com.global.foodpanda.android',\n",
        "    sleep_milliseconds=0, # defaults to 0\n",
        "    lang='en', # defaults to 'en'\n",
        "    country='us', # defaults to 'us'\n",
        "    sort=Sort.MOST_RELEVANT, # defaults to Sort.MOST_RELEVANT\n",
        "    filter_score_with=1 # defaults to None(means all score)\n",
        ")\n",
        "\n",
        "f = open(\"com.global.foodpanda.android.json\", \"w\")\n",
        "\n",
        "f.write(str(result))\n",
        "\n",
        "f.close()"
      ],
      "execution_count": null,
      "outputs": []
    },
    {
      "cell_type": "markdown",
      "metadata": {
        "id": "iNcmEj_G4YyK"
      },
      "source": [
        "**Data download (Ubereats app)**\n",
        "\n",
        "\n",
        "\n",
        "```\n",
        "# Only download reviews with score = 1.\n",
        "```\n",
        "\n"
      ]
    },
    {
      "cell_type": "code",
      "metadata": {
        "id": "pXvmsm7g4YU-"
      },
      "source": [
        "from google_play_scraper import Sort, reviews_all\n",
        "\n",
        "result = reviews_all(\n",
        "    'com.ubercab.eats',\n",
        "    sleep_milliseconds=0, # defaults to 0\n",
        "    lang='en', # defaults to 'en'\n",
        "    country='us', # defaults to 'us'\n",
        "    sort=Sort.MOST_RELEVANT, # defaults to Sort.MOST_RELEVANT\n",
        "    filter_score_with=1 # defaults to None(means all score)\n",
        ")\n",
        "\n",
        "f = open(\"com.ubercab.eats.json\", \"w\")\n",
        "\n",
        "f.write(str(result))\n",
        "\n",
        "f.close()"
      ],
      "execution_count": null,
      "outputs": []
    },
    {
      "cell_type": "markdown",
      "metadata": {
        "id": "cNvcdPY15AGH"
      },
      "source": [
        "**Data download (Zomato app)**\n",
        "\n",
        "\n",
        "\n",
        "```\n",
        "#Only download reviews with score = 1.\n",
        "```\n",
        "\n"
      ]
    },
    {
      "cell_type": "code",
      "metadata": {
        "id": "2wMOItGP5Gop"
      },
      "source": [
        "from google_play_scraper import Sort, reviews_all\n",
        "\n",
        "result = reviews_all(\n",
        "    'com.application.zomato',\n",
        "    sleep_milliseconds=0, # defaults to 0\n",
        "    lang='en', # defaults to 'en'\n",
        "    country='us', # defaults to 'us'\n",
        "    sort=Sort.MOST_RELEVANT, # defaults to Sort.MOST_RELEVANT\n",
        "    filter_score_with=1 # defaults to None(means all score)\n",
        ")\n",
        "\n",
        "f = open(\"com.application.zomato.json\", \"w\")\n",
        "\n",
        "f.write(str(result))\n",
        "\n",
        "f.close()"
      ],
      "execution_count": null,
      "outputs": []
    },
    {
      "cell_type": "markdown",
      "metadata": {
        "id": "COBpmIewHIhg"
      },
      "source": [
        "**PRÉ-PROCESSAMENTO (Foodpanda) - Datetime**"
      ]
    },
    {
      "cell_type": "code",
      "metadata": {
        "id": "_PbZbh1yHRuM"
      },
      "source": [
        "# Read in the file\n",
        "with open('com.global.foodpanda.android.json', 'r') as file :\n",
        "  filedata = file.read()\n",
        "\n",
        "# Replace the target string\n",
        "filedata = filedata.replace(\"), 'replyContent\", \")', 'replyContent\")\n",
        "filedata = filedata.replace(\"'at': datetime\", \"'at': 'datetime\")\n",
        "\n",
        "# Write the file out again\n",
        "with open('foodpanda-pre-processing-date.json', 'w') as file:\n",
        "  file.write(filedata)"
      ],
      "execution_count": null,
      "outputs": []
    },
    {
      "cell_type": "markdown",
      "metadata": {
        "id": "YSHz7fxd65Uw"
      },
      "source": [
        "**PRÉ-PROCESSAMENTO (Ubereats) - Datetime**"
      ]
    },
    {
      "cell_type": "code",
      "metadata": {
        "id": "8dSjjft07DmV"
      },
      "source": [
        "# Read in the file\n",
        "with open('com.ubercab.eats.json', 'r') as file :\n",
        "  filedata = file.read()\n",
        "\n",
        "# Replace the target string\n",
        "filedata = filedata.replace(\"), 'replyContent\", \")', 'replyContent\")\n",
        "filedata = filedata.replace(\"'at': datetime\", \"'at': 'datetime\")\n",
        "\n",
        "# Write the file out again\n",
        "with open('ubereats-pre-processing-date.json', 'w') as file:\n",
        "  file.write(filedata)"
      ],
      "execution_count": null,
      "outputs": []
    },
    {
      "cell_type": "markdown",
      "metadata": {
        "id": "4GtMqDfW7lha"
      },
      "source": [
        "**PRÉ-PROCESSAMENTO (Zomato) - Datetime**"
      ]
    },
    {
      "cell_type": "code",
      "metadata": {
        "id": "lZVitO0g7BLI"
      },
      "source": [
        "# Read in the file\n",
        "with open('com.application.zomato.json', 'r') as file :\n",
        "  filedata = file.read()\n",
        "\n",
        "# Replace the target string\n",
        "filedata = filedata.replace(\"), 'replyContent\", \")', 'replyContent\")\n",
        "filedata = filedata.replace(\"'at': datetime\", \"'at': 'datetime\")\n",
        "\n",
        "# Write the file out again\n",
        "with open('zomato-pre-processing-date.json', 'w') as file:\n",
        "  file.write(filedata)"
      ],
      "execution_count": null,
      "outputs": []
    },
    {
      "cell_type": "markdown",
      "metadata": {
        "id": "aZKCIxxyHjSU"
      },
      "source": [
        "**Pre-processing (Foodpanda app) - Json format**"
      ]
    },
    {
      "cell_type": "code",
      "metadata": {
        "id": "c8L8sKaFHqAc"
      },
      "source": [
        "import json \n",
        "import datetime\n",
        "\n",
        "\n",
        "def myconverter(o):\n",
        "    if isinstance(o, datetime.datetime):\n",
        "        return o.__str__()\n",
        "\n",
        "str = open('foodpanda-pre-processing-date.json', 'r').read()\n",
        "\n",
        "str.strip()\n",
        "\n",
        "out = eval(str)\n",
        "\n",
        "json_object = json.dumps(out, default = myconverter)\n",
        "\n",
        "with open(\"foodpanda-pre-processing-format.json\", \"w\") as outfile: \n",
        "    outfile.write(json_object)"
      ],
      "execution_count": null,
      "outputs": []
    },
    {
      "cell_type": "markdown",
      "metadata": {
        "id": "9-mV4TkS8M4X"
      },
      "source": [
        "**Pre-processing (Ubereats app) - Json format**"
      ]
    },
    {
      "cell_type": "code",
      "metadata": {
        "id": "CiIhiIVw8OjO"
      },
      "source": [
        "import json \n",
        "import datetime\n",
        "\n",
        "\n",
        "def myconverter(o):\n",
        "    if isinstance(o, datetime.datetime):\n",
        "        return o.__str__()\n",
        "\n",
        "str = open('ubereats-pre-processing-date.json', 'r').read()\n",
        "\n",
        "str.strip()\n",
        "\n",
        "out = eval(str)\n",
        "\n",
        "json_object = json.dumps(out, default = myconverter)\n",
        "\n",
        "with open(\"ubereats-pre-processing-format.json\", \"w\") as outfile: \n",
        "    outfile.write(json_object)"
      ],
      "execution_count": null,
      "outputs": []
    },
    {
      "cell_type": "markdown",
      "metadata": {
        "id": "8fiREs0x8Y5n"
      },
      "source": [
        "**Pre-processing (Zomato app) - Json format**"
      ]
    },
    {
      "cell_type": "code",
      "metadata": {
        "id": "qC8BlujE8Ynz"
      },
      "source": [
        "import json \n",
        "import datetime\n",
        "\n",
        "\n",
        "def myconverter(o):\n",
        "    if isinstance(o, datetime.datetime):\n",
        "        return o.__str__()\n",
        "\n",
        "str = open('zomato-pre-processing-date.json', 'r').read()\n",
        "\n",
        "str.strip()\n",
        "\n",
        "out = eval(str)\n",
        "\n",
        "json_object = json.dumps(out, default = myconverter)\n",
        "\n",
        "with open(\"zomato-pre-processing-format.json\", \"w\") as outfile: \n",
        "    outfile.write(json_object)"
      ],
      "execution_count": null,
      "outputs": []
    },
    {
      "cell_type": "markdown",
      "metadata": {
        "id": "i4GI53q-IDAx"
      },
      "source": [
        "\n",
        "**FINAL EXTRACTION (Foodpanda app) - Json with Review and Date**\n"
      ]
    },
    {
      "cell_type": "code",
      "metadata": {
        "id": "6-XedntKH2kT"
      },
      "source": [
        "import json\n",
        "import datetime\n",
        "fp = open('foodpanda-pre-processing-format.json','r')\n",
        "data = json.loads(fp.read())\n",
        "\n",
        "outJson = {}\n",
        "outJson['reviews'] = []\n",
        "\n",
        "for obj in data:\n",
        "  content = obj['content']\n",
        "  at = eval(obj['at'])\n",
        "  #print(content)\n",
        "  #print(at.strftime(\"%x\"))\n",
        "  outJson['reviews'].append({\n",
        "      'content': content,\n",
        "      'date': at.strftime(\"%x\")\n",
        "  })\n",
        "\n",
        "with open('foodpanda-final-extract.json', 'w') as outfile:\n",
        "    json.dump(outJson, outfile)"
      ],
      "execution_count": null,
      "outputs": []
    },
    {
      "cell_type": "markdown",
      "metadata": {
        "id": "gRpmndsv8t6T"
      },
      "source": [
        "**FINAL EXTRACTION (Ubereats app) - Json with Review and Date**"
      ]
    },
    {
      "cell_type": "code",
      "metadata": {
        "id": "nlV50kuJ8tP8"
      },
      "source": [
        "import json\n",
        "import datetime\n",
        "fp = open('ubereats-pre-processing-format.json','r')\n",
        "data = json.loads(fp.read())\n",
        "\n",
        "outJson = {}\n",
        "outJson['reviews'] = []\n",
        "\n",
        "for obj in data:\n",
        "  content = obj['content']\n",
        "  at = eval(obj['at'])\n",
        "  #print(content)\n",
        "  #print(at.strftime(\"%x\"))\n",
        "  outJson['reviews'].append({\n",
        "      'content': content,\n",
        "      'date': at.strftime(\"%x\")\n",
        "  })\n",
        "\n",
        "with open('ubereats-final-extract.json', 'w') as outfile:\n",
        "    json.dump(outJson, outfile)"
      ],
      "execution_count": null,
      "outputs": []
    },
    {
      "cell_type": "markdown",
      "metadata": {
        "id": "6pNfRp7X81gW"
      },
      "source": [
        "**FINAL EXTRACTION (Zomato app) - Json with Review and Date**"
      ]
    },
    {
      "cell_type": "code",
      "metadata": {
        "id": "2RpTYe_B82I_"
      },
      "source": [
        "import json\n",
        "import datetime\n",
        "fp = open('zomato-pre-processing-format.json','r')\n",
        "data = json.loads(fp.read())\n",
        "\n",
        "outJson = {}\n",
        "outJson['reviews'] = []\n",
        "\n",
        "for obj in data:\n",
        "  content = obj['content']\n",
        "  at = eval(obj['at'])\n",
        "  #print(content)\n",
        "  #print(at.strftime(\"%x\"))\n",
        "  outJson['reviews'].append({\n",
        "      'content': content,\n",
        "      'date': at.strftime(\"%x\")\n",
        "  })\n",
        "\n",
        "with open('zomato-final-extract.json', 'w') as outfile:\n",
        "    json.dump(outJson, outfile)"
      ],
      "execution_count": null,
      "outputs": []
    },
    {
      "cell_type": "markdown",
      "metadata": {
        "id": "Cw3Gd4_Qpyi0"
      },
      "source": [
        "**FINAL EXTRACTION (Foodpanda) - TXT with date and review separated by line**"
      ]
    },
    {
      "cell_type": "code",
      "metadata": {
        "id": "lRBO-_dupuuh"
      },
      "source": [
        "import json\n",
        "import datetime\n",
        "fp = open('foodpanda-pre-processing-format.json','r')\n",
        "data = json.loads(fp.read())\n",
        "\n",
        "outFile = open(\"foodpanda-final-extract-bysentence.txt\", \"w\")\n",
        "\n",
        "for obj in data:\n",
        "  content = \"\"\n",
        "  if obj['content']:\n",
        "    content = obj['content']\n",
        "  else :\n",
        "    content = \"\"\n",
        "\n",
        "  at = eval(obj['at'])\n",
        "\n",
        "  \n",
        "  outFile.write(at.strftime(\"%x\") + \" - \" +  content)\n",
        "  outFile.write(\"\\n\")\n",
        "  "
      ],
      "execution_count": null,
      "outputs": []
    },
    {
      "cell_type": "markdown",
      "metadata": {
        "id": "A8pZQhZr9P3V"
      },
      "source": [
        "**FINAL EXTRACTION (Ubereats) - TXT with date and review separated by line**"
      ]
    },
    {
      "cell_type": "code",
      "metadata": {
        "id": "lHBV36K09Dmd"
      },
      "source": [
        "import json\n",
        "import datetime\n",
        "fp = open('ubereats-pre-processing-format.json','r')\n",
        "data = json.loads(fp.read())\n",
        "\n",
        "\n",
        "outFile = open(\"ubereats-final-extract-bysentence.txt\", \"w\")\n",
        "\n",
        "for obj in data:\n",
        "  content = \"\"\n",
        "  if obj['content']:\n",
        "    content = obj['content']\n",
        "  else :\n",
        "    content = \"\"\n",
        "\n",
        "  at = eval(obj['at'])\n",
        "  \n",
        "  outFile.write(at.strftime(\"%x\") + \" - \" +  content)\n",
        "  outFile.write(\"\\n\")"
      ],
      "execution_count": null,
      "outputs": []
    },
    {
      "cell_type": "markdown",
      "metadata": {
        "id": "O2SXrIjL9Yzs"
      },
      "source": [
        "**FINAL EXTRACTION (Zomato) - TXT with date and review separated by line**"
      ]
    },
    {
      "cell_type": "code",
      "metadata": {
        "id": "SKFIAjfq9Yl8"
      },
      "source": [
        "import json\n",
        "import datetime\n",
        "fp = open('zomato-pre-processing-format.json','r')\n",
        "data = json.loads(fp.read())\n",
        "\n",
        "\n",
        "outFile = open(\"zomato-final-extract-bysentence.txt\", \"w\")\n",
        "\n",
        "for obj in data:\n",
        "  content = \"\"\n",
        "  if obj['content']:\n",
        "    content = obj['content']\n",
        "  else :\n",
        "    content = \"\"\n",
        "\n",
        "  at = eval(obj['at'])\n",
        "\n",
        "  \n",
        "  outFile.write(at.strftime(\"%x\") + \" - \" +  content)\n",
        "  outFile.write(\"\\n\")"
      ],
      "execution_count": null,
      "outputs": []
    }
  ]
}